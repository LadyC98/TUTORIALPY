{
 "cells": [
  {
   "cell_type": "markdown",
   "id": "46c549d4",
   "metadata": {},
   "source": [
    "Retail Customer Segmentation with RFM Model\n",
    "This project analyzes retail customer transactions data and classifies customers into groups by applying RFM model and quantile scoring method. The objective is to help the business gain insights and run effective marketing campaigns.\n",
    "\n",
    "RFM model is a marketing concept for segmenting customers based on their buying behaviors in 3 areas: Recency, Frequency, and Monetary.\n",
    "We are going through five steps in this project:\n",
    "1. Load Data\n",
    "2. Cleaning Data\n",
    "3. Manipulating Data\n",
    "4. Segmentation\n",
    "5. Conclusion"
   ]
  },
  {
   "cell_type": "code",
   "execution_count": 1,
   "id": "119bf0e9",
   "metadata": {},
   "outputs": [
    {
     "ename": "ModuleNotFoundError",
     "evalue": "No module named 'pandas'",
     "output_type": "error",
     "traceback": [
      "\u001b[31m---------------------------------------------------------------------------\u001b[39m",
      "\u001b[31mModuleNotFoundError\u001b[39m                       Traceback (most recent call last)",
      "\u001b[36mCell\u001b[39m\u001b[36m \u001b[39m\u001b[32mIn[1]\u001b[39m\u001b[32m, line 2\u001b[39m\n\u001b[32m      1\u001b[39m \u001b[38;5;66;03m#Import necessary libraries\u001b[39;00m\n\u001b[32m----> \u001b[39m\u001b[32m2\u001b[39m \u001b[38;5;28;01mimport\u001b[39;00m\u001b[38;5;250m \u001b[39m\u001b[34;01mpandas\u001b[39;00m\u001b[38;5;250m \u001b[39m\u001b[38;5;28;01mas\u001b[39;00m\u001b[38;5;250m \u001b[39m\u001b[34;01mpd\u001b[39;00m\n\u001b[32m      3\u001b[39m \u001b[38;5;28;01mimport\u001b[39;00m\u001b[38;5;250m \u001b[39m\u001b[34;01mnumpy\u001b[39;00m\u001b[38;5;250m \u001b[39m\u001b[38;5;28;01mas\u001b[39;00m\u001b[38;5;250m \u001b[39m\u001b[34;01mnp\u001b[39;00m\n\u001b[32m      4\u001b[39m \u001b[38;5;28;01mimport\u001b[39;00m\u001b[38;5;250m \u001b[39m\u001b[34;01mmatplotlib\u001b[39;00m\u001b[34;01m.\u001b[39;00m\u001b[34;01mpyplot\u001b[39;00m\u001b[38;5;250m \u001b[39m\u001b[38;5;28;01mas\u001b[39;00m\u001b[38;5;250m \u001b[39m\u001b[34;01mplt\u001b[39;00m\n",
      "\u001b[31mModuleNotFoundError\u001b[39m: No module named 'pandas'"
     ]
    }
   ],
   "source": [
    "#Import necessary libraries\n",
    "import pandas as pd\n",
    "import numpy as np\n",
    "import matplotlib.pyplot as plt\n",
    "import seaborn as sns\n",
    "\n",
    "#Read the dataset\n",
    "df= pd.read_csv('https://docs.google.com/spreadsheets/d/e/2PACX-1vTywFpUKSOSvi0xZosRzpXu1gxjt-dpXLuJ2Yo_FV_MFuJz3eukbvjx603dKxjW5DJdpUDPnxjIjPd9/pub?output=csv', parse_dates=['InvoiceDate'])\n",
    "df.head(10)\n"
   ]
  },
  {
   "cell_type": "markdown",
   "id": "595b7584",
   "metadata": {},
   "source": []
  },
  {
   "cell_type": "code",
   "execution_count": 17,
   "id": "cb85e750",
   "metadata": {},
   "outputs": [
    {
     "name": "stdout",
     "output_type": "stream",
     "text": [
      "<class 'pandas.core.frame.DataFrame'>\n",
      "RangeIndex: 541909 entries, 0 to 541908\n",
      "Data columns (total 8 columns):\n",
      " #   Column       Non-Null Count   Dtype         \n",
      "---  ------       --------------   -----         \n",
      " 0   InvoiceNo    541909 non-null  object        \n",
      " 1   StockCode    541909 non-null  object        \n",
      " 2   Description  540455 non-null  object        \n",
      " 3   Quantity     541909 non-null  int64         \n",
      " 4   InvoiceDate  541909 non-null  datetime64[ns]\n",
      " 5   UnitPrice    541909 non-null  float64       \n",
      " 6   CustomerID   406829 non-null  float64       \n",
      " 7   Country      541909 non-null  object        \n",
      "dtypes: datetime64[ns](1), float64(2), int64(1), object(4)\n",
      "memory usage: 33.1+ MB\n"
     ]
    }
   ],
   "source": [
    "#Get a summary of the dataset\n",
    "df.info()"
   ]
  },
  {
   "cell_type": "markdown",
   "id": "9db82dd2",
   "metadata": {},
   "source": [
    "The dataset contains 541,909 rows and 8 columns. InvoiceDate has already been converted to datetime type when reading the file. The rests of them are in acceptable data types.\n"
   ]
  },
  {
   "cell_type": "code",
   "execution_count": 18,
   "id": "4da55a3e",
   "metadata": {},
   "outputs": [
    {
     "data": {
      "text/plain": [
       "StockCode       4070\n",
       "Description     4211\n",
       "Quantity         722\n",
       "InvoiceDate    23260\n",
       "UnitPrice       1630\n",
       "CustomerID      4372\n",
       "Country           38\n",
       "dtype: int64"
      ]
     },
     "execution_count": 18,
     "metadata": {},
     "output_type": "execute_result"
    }
   ],
   "source": [
    "#How much values are in each field?\n",
    "df[df.columns[1:]].nunique()"
   ]
  },
  {
   "cell_type": "markdown",
   "id": "ae22d68a",
   "metadata": {},
   "source": [
    "Counting unique values in each column shows that there are more than 4,300 customers from 38 countries having purchased over 4,000 different products in the time period.\n",
    "There are about 4000 products sold as well.\n",
    "But we need to be sure of the accurate of the data so we are going to see if there are missing data."
   ]
  },
  {
   "cell_type": "code",
   "execution_count": 19,
   "id": "32f3eb01",
   "metadata": {},
   "outputs": [
    {
     "data": {
      "text/plain": [
       "InvoiceNo           0\n",
       "StockCode           0\n",
       "Description      1454\n",
       "Quantity            0\n",
       "InvoiceDate         0\n",
       "UnitPrice           0\n",
       "CustomerID     135080\n",
       "Country             0\n",
       "dtype: int64"
      ]
     },
     "execution_count": 19,
     "metadata": {},
     "output_type": "execute_result"
    }
   ],
   "source": [
    "#Check for missing values\n",
    "df.isnull().sum()"
   ]
  },
  {
   "cell_type": "markdown",
   "id": "d79289b4",
   "metadata": {},
   "source": [
    "There are 135,080 records (25% of total) with no customer ID and around 1,400 without description. Only CustomerID is important for the analysis so I will drop all rows with null in customerID. "
   ]
  },
  {
   "cell_type": "code",
   "execution_count": null,
   "id": "80496f08",
   "metadata": {},
   "outputs": [
    {
     "data": {
      "text/html": [
       "<div>\n",
       "<style scoped>\n",
       "    .dataframe tbody tr th:only-of-type {\n",
       "        vertical-align: middle;\n",
       "    }\n",
       "\n",
       "    .dataframe tbody tr th {\n",
       "        vertical-align: top;\n",
       "    }\n",
       "\n",
       "    .dataframe thead th {\n",
       "        text-align: right;\n",
       "    }\n",
       "</style>\n",
       "<table border=\"1\" class=\"dataframe\">\n",
       "  <thead>\n",
       "    <tr style=\"text-align: right;\">\n",
       "      <th></th>\n",
       "      <th>InvoiceNo</th>\n",
       "      <th>StockCode</th>\n",
       "      <th>Description</th>\n",
       "      <th>Quantity</th>\n",
       "      <th>InvoiceDate</th>\n",
       "      <th>UnitPrice</th>\n",
       "      <th>CustomerID</th>\n",
       "      <th>Country</th>\n",
       "    </tr>\n",
       "  </thead>\n",
       "  <tbody>\n",
       "    <tr>\n",
       "      <th>622</th>\n",
       "      <td>536414</td>\n",
       "      <td>22139</td>\n",
       "      <td>NaN</td>\n",
       "      <td>56</td>\n",
       "      <td>2010-12-01 11:52:00</td>\n",
       "      <td>0.00</td>\n",
       "      <td>NaN</td>\n",
       "      <td>United Kingdom</td>\n",
       "    </tr>\n",
       "    <tr>\n",
       "      <th>1443</th>\n",
       "      <td>536544</td>\n",
       "      <td>21773</td>\n",
       "      <td>DECORATIVE ROSE BATHROOM BOTTLE</td>\n",
       "      <td>1</td>\n",
       "      <td>2010-12-01 14:32:00</td>\n",
       "      <td>2.51</td>\n",
       "      <td>NaN</td>\n",
       "      <td>United Kingdom</td>\n",
       "    </tr>\n",
       "    <tr>\n",
       "      <th>1444</th>\n",
       "      <td>536544</td>\n",
       "      <td>21774</td>\n",
       "      <td>DECORATIVE CATS BATHROOM BOTTLE</td>\n",
       "      <td>2</td>\n",
       "      <td>2010-12-01 14:32:00</td>\n",
       "      <td>2.51</td>\n",
       "      <td>NaN</td>\n",
       "      <td>United Kingdom</td>\n",
       "    </tr>\n",
       "    <tr>\n",
       "      <th>1445</th>\n",
       "      <td>536544</td>\n",
       "      <td>21786</td>\n",
       "      <td>POLKADOT RAIN HAT</td>\n",
       "      <td>4</td>\n",
       "      <td>2010-12-01 14:32:00</td>\n",
       "      <td>0.85</td>\n",
       "      <td>NaN</td>\n",
       "      <td>United Kingdom</td>\n",
       "    </tr>\n",
       "    <tr>\n",
       "      <th>1446</th>\n",
       "      <td>536544</td>\n",
       "      <td>21787</td>\n",
       "      <td>RAIN PONCHO RETROSPOT</td>\n",
       "      <td>2</td>\n",
       "      <td>2010-12-01 14:32:00</td>\n",
       "      <td>1.66</td>\n",
       "      <td>NaN</td>\n",
       "      <td>United Kingdom</td>\n",
       "    </tr>\n",
       "  </tbody>\n",
       "</table>\n",
       "</div>"
      ],
      "text/plain": [
       "     InvoiceNo StockCode                      Description  Quantity  \\\n",
       "622     536414     22139                              NaN        56   \n",
       "1443    536544     21773  DECORATIVE ROSE BATHROOM BOTTLE         1   \n",
       "1444    536544     21774  DECORATIVE CATS BATHROOM BOTTLE         2   \n",
       "1445    536544     21786                POLKADOT RAIN HAT         4   \n",
       "1446    536544     21787            RAIN PONCHO RETROSPOT         2   \n",
       "\n",
       "             InvoiceDate  UnitPrice  CustomerID         Country  \n",
       "622  2010-12-01 11:52:00       0.00         NaN  United Kingdom  \n",
       "1443 2010-12-01 14:32:00       2.51         NaN  United Kingdom  \n",
       "1444 2010-12-01 14:32:00       2.51         NaN  United Kingdom  \n",
       "1445 2010-12-01 14:32:00       0.85         NaN  United Kingdom  \n",
       "1446 2010-12-01 14:32:00       1.66         NaN  United Kingdom  "
      ]
     },
     "execution_count": 9,
     "metadata": {},
     "output_type": "execute_result"
    }
   ],
   "source": [
    "#View the records with missing CustomerID\n",
    "df[df['CustomerID'].isnull()].head()"
   ]
  },
  {
   "cell_type": "code",
   "execution_count": 29,
   "id": "13081065",
   "metadata": {},
   "outputs": [
    {
     "data": {
      "text/plain": [
       "(406829, 8)"
      ]
     },
     "execution_count": 29,
     "metadata": {},
     "output_type": "execute_result"
    }
   ],
   "source": [
    "#Drop rows with missing CustomerID\n",
    "df.dropna(subset = 'CustomerID', inplace = True) \n",
    "df.shape"
   ]
  },
  {
   "cell_type": "code",
   "execution_count": 27,
   "id": "2bc46e26",
   "metadata": {},
   "outputs": [
    {
     "ename": "AttributeError",
     "evalue": "'NoneType' object has no attribute 'duplicated'",
     "output_type": "error",
     "traceback": [
      "\u001b[31m---------------------------------------------------------------------------\u001b[39m",
      "\u001b[31mAttributeError\u001b[39m                            Traceback (most recent call last)",
      "\u001b[36mCell\u001b[39m\u001b[36m \u001b[39m\u001b[32mIn[27]\u001b[39m\u001b[32m, line 2\u001b[39m\n\u001b[32m      1\u001b[39m \u001b[38;5;66;03m#Check for duplicates\u001b[39;00m\n\u001b[32m----> \u001b[39m\u001b[32m2\u001b[39m \u001b[43mdf\u001b[49m\u001b[43m.\u001b[49m\u001b[43mduplicated\u001b[49m().sum()\n",
      "\u001b[31mAttributeError\u001b[39m: 'NoneType' object has no attribute 'duplicated'"
     ]
    }
   ],
   "source": [
    "#Check for duplicates\n",
    "df.duplicated().sum()"
   ]
  },
  {
   "cell_type": "markdown",
   "id": "3b295e09",
   "metadata": {},
   "source": [
    "There are 5,225 duplicates in this dataset with duplicate values across all columns.\n",
    "The nest step is drop all the duplicate values."
   ]
  },
  {
   "cell_type": "code",
   "execution_count": 30,
   "id": "42c7ffd8",
   "metadata": {},
   "outputs": [
    {
     "data": {
      "text/plain": [
       "(401604, 8)"
      ]
     },
     "execution_count": 30,
     "metadata": {},
     "output_type": "execute_result"
    }
   ],
   "source": [
    "#Drop rows with missing CustomerID\n",
    "df.drop_duplicates(keep='last', inplace=True)\n",
    "\n",
    "df.shape"
   ]
  },
  {
   "cell_type": "code",
   "execution_count": 31,
   "id": "71f4fcac",
   "metadata": {},
   "outputs": [
    {
     "data": {
      "text/html": [
       "<div>\n",
       "<style scoped>\n",
       "    .dataframe tbody tr th:only-of-type {\n",
       "        vertical-align: middle;\n",
       "    }\n",
       "\n",
       "    .dataframe tbody tr th {\n",
       "        vertical-align: top;\n",
       "    }\n",
       "\n",
       "    .dataframe thead th {\n",
       "        text-align: right;\n",
       "    }\n",
       "</style>\n",
       "<table border=\"1\" class=\"dataframe\">\n",
       "  <thead>\n",
       "    <tr style=\"text-align: right;\">\n",
       "      <th></th>\n",
       "      <th>Quantity</th>\n",
       "      <th>UnitPrice</th>\n",
       "    </tr>\n",
       "  </thead>\n",
       "  <tbody>\n",
       "    <tr>\n",
       "      <th>min</th>\n",
       "      <td>-80995.000000</td>\n",
       "      <td>0.000000</td>\n",
       "    </tr>\n",
       "    <tr>\n",
       "      <th>mean</th>\n",
       "      <td>12.183273</td>\n",
       "      <td>3.474064</td>\n",
       "    </tr>\n",
       "    <tr>\n",
       "      <th>max</th>\n",
       "      <td>80995.000000</td>\n",
       "      <td>38970.000000</td>\n",
       "    </tr>\n",
       "  </tbody>\n",
       "</table>\n",
       "</div>"
      ],
      "text/plain": [
       "          Quantity     UnitPrice\n",
       "min  -80995.000000      0.000000\n",
       "mean     12.183273      3.474064\n",
       "max   80995.000000  38970.000000"
      ]
     },
     "execution_count": 31,
     "metadata": {},
     "output_type": "execute_result"
    }
   ],
   "source": [
    "# Check data in numeric fields\n",
    "df[['Quantity', 'UnitPrice']].agg({'Quantity':['min', 'mean', 'max'], 'UnitPrice':['min', 'mean', 'max']})"
   ]
  },
  {
   "cell_type": "code",
   "execution_count": 32,
   "id": "f7d68e11",
   "metadata": {},
   "outputs": [
    {
     "name": "stdout",
     "output_type": "stream",
     "text": [
      "8872\n",
      "40\n",
      "8912\n"
     ]
    }
   ],
   "source": [
    "# Check for negative values in Quantity and UnitPrice\n",
    "print(df[df['Quantity'] <= 0].shape[0])\n",
    "print(df[df['UnitPrice'] == 0].shape[0])\n",
    "print(df[(df['Quantity'] <= 0) | (df['UnitPrice'] == 0)].shape[0])"
   ]
  },
  {
   "cell_type": "markdown",
   "id": "896f97df",
   "metadata": {},
   "source": [
    "There are 8,872 records with negative values in Quantity and 40 records with zero in UnitPrice (8,912 with either condition)."
   ]
  },
  {
   "cell_type": "code",
   "execution_count": null,
   "id": "8c4e5156",
   "metadata": {},
   "outputs": [],
   "source": [
    "# Exclude rows with negative or zero in both fields\n",
    "df = df[(df['Quantity'] > 0) & (df['UnitPrice'] > 0)]\n",
    "\n",
    "df.shape"
   ]
  },
  {
   "cell_type": "markdown",
   "id": "75a518fe",
   "metadata": {},
   "source": [
    "3. DATA MANIPULATION\n",
    "\n",
    "These are new columns needed for RFM Analysis:\n",
    "\n",
    "#SumTotal: quantity times unit price (will be used as input for Monetary).\n",
    "#Recency: number of days from “current” date.\n",
    "#Frequency: count of unique invoices.\n",
    "#Monetary: sum of dollar values from all purchases"
   ]
  },
  {
   "cell_type": "code",
   "execution_count": 33,
   "id": "21111e1c",
   "metadata": {},
   "outputs": [
    {
     "data": {
      "text/html": [
       "<div>\n",
       "<style scoped>\n",
       "    .dataframe tbody tr th:only-of-type {\n",
       "        vertical-align: middle;\n",
       "    }\n",
       "\n",
       "    .dataframe tbody tr th {\n",
       "        vertical-align: top;\n",
       "    }\n",
       "\n",
       "    .dataframe thead th {\n",
       "        text-align: right;\n",
       "    }\n",
       "</style>\n",
       "<table border=\"1\" class=\"dataframe\">\n",
       "  <thead>\n",
       "    <tr style=\"text-align: right;\">\n",
       "      <th></th>\n",
       "      <th>Quantity</th>\n",
       "      <th>UnitPrice</th>\n",
       "      <th>SumTotal</th>\n",
       "    </tr>\n",
       "  </thead>\n",
       "  <tbody>\n",
       "    <tr>\n",
       "      <th>0</th>\n",
       "      <td>6</td>\n",
       "      <td>2.55</td>\n",
       "      <td>15.30</td>\n",
       "    </tr>\n",
       "    <tr>\n",
       "      <th>1</th>\n",
       "      <td>6</td>\n",
       "      <td>3.39</td>\n",
       "      <td>20.34</td>\n",
       "    </tr>\n",
       "    <tr>\n",
       "      <th>2</th>\n",
       "      <td>8</td>\n",
       "      <td>2.75</td>\n",
       "      <td>22.00</td>\n",
       "    </tr>\n",
       "    <tr>\n",
       "      <th>3</th>\n",
       "      <td>6</td>\n",
       "      <td>3.39</td>\n",
       "      <td>20.34</td>\n",
       "    </tr>\n",
       "    <tr>\n",
       "      <th>4</th>\n",
       "      <td>6</td>\n",
       "      <td>3.39</td>\n",
       "      <td>20.34</td>\n",
       "    </tr>\n",
       "  </tbody>\n",
       "</table>\n",
       "</div>"
      ],
      "text/plain": [
       "   Quantity  UnitPrice  SumTotal\n",
       "0         6       2.55     15.30\n",
       "1         6       3.39     20.34\n",
       "2         8       2.75     22.00\n",
       "3         6       3.39     20.34\n",
       "4         6       3.39     20.34"
      ]
     },
     "execution_count": 33,
     "metadata": {},
     "output_type": "execute_result"
    }
   ],
   "source": [
    "#Create SumTotal column\n",
    "df['SumTotal'] = df['Quantity'] * df['UnitPrice']\n",
    "df[['Quantity', 'UnitPrice', 'SumTotal']].head()"
   ]
  },
  {
   "cell_type": "code",
   "execution_count": null,
   "id": "e0051b4c",
   "metadata": {},
   "outputs": [
    {
     "name": "stdout",
     "output_type": "stream",
     "text": [
      "Average customer spend per time is:  $ 373\n"
     ]
    }
   ],
   "source": [
    "#Find the average customer spend per time\n",
    "basket_size=df.groupby('InvoiceNo')['SumTotal'].sum()\n",
    "print(\"Average customer spend per time is:  $\",round(basket_size.mean()))\n"
   ]
  },
  {
   "cell_type": "code",
   "execution_count": null,
   "id": "d469c76b",
   "metadata": {},
   "outputs": [],
   "source": [
    "#Recency column\n",
    "recency_df=(df['InvoiceDate'].max()-df.groupby('CustomerID')['InvoiceDate'].max()).dt.days\n",
    "#Frecuency \n",
    "frequency_df=df.groupby('CustomerID')['InvoiceNo'].nunique()\n",
    "#Monetary\n",
    "monetary_df=df.groupby('CustomerID')['SumTotal'].sum()\n",
    "#Merge RFM columns into a new dataframe\n",
    "rfm_df=pd.DataFrame({'Recency':recency_df, 'Frequency':frequency_df, 'Monetary':monetary_df})\n",
    "rfm_df.head()"
   ]
  }
 ],
 "metadata": {
  "kernelspec": {
   "display_name": "Python 3",
   "language": "python",
   "name": "python3"
  },
  "language_info": {
   "codemirror_mode": {
    "name": "ipython",
    "version": 3
   },
   "file_extension": ".py",
   "mimetype": "text/x-python",
   "name": "python",
   "nbconvert_exporter": "python",
   "pygments_lexer": "ipython3",
   "version": "3.13.7"
  }
 },
 "nbformat": 4,
 "nbformat_minor": 5
}
